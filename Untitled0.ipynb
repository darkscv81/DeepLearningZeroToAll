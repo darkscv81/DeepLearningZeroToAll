{
  "nbformat": 4,
  "nbformat_minor": 0,
  "metadata": {
    "colab": {
      "name": "Untitled0.ipynb",
      "provenance": [],
      "authorship_tag": "ABX9TyNf56wEFJa9BjKSx7faJJV8",
      "include_colab_link": true
    },
    "kernelspec": {
      "name": "python3",
      "display_name": "Python 3"
    }
  },
  "cells": [
    {
      "cell_type": "markdown",
      "metadata": {
        "id": "view-in-github",
        "colab_type": "text"
      },
      "source": [
        "<a href=\"https://colab.research.google.com/github/darkscv81/DeepLearningZeroToAll/blob/master/Untitled0.ipynb\" target=\"_parent\"><img src=\"https://colab.research.google.com/assets/colab-badge.svg\" alt=\"Open In Colab\"/></a>"
      ]
    },
    {
      "cell_type": "code",
      "metadata": {
        "id": "G6ULpSbYoPPl",
        "colab_type": "code",
        "colab": {}
      },
      "source": [
        "import tensorflow as tf\n",
        "import pandas as pd"
      ],
      "execution_count": 1,
      "outputs": []
    },
    {
      "cell_type": "code",
      "metadata": {
        "id": "Qg0gyPs7oTL_",
        "colab_type": "code",
        "colab": {
          "base_uri": "https://localhost:8080/",
          "height": 195
        },
        "outputId": "f5b6062e-007a-4269-bdab-3fc7173f711e"
      },
      "source": [
        "파일경로 = 'https://raw.githubusercontent.com/blackdew/tensorflow1/master/csv/iris.csv'\n",
        "아이리스 = pd.read_csv(파일경로)\n",
        "아이리스.head()"
      ],
      "execution_count": 2,
      "outputs": [
        {
          "output_type": "execute_result",
          "data": {
            "text/html": [
              "<div>\n",
              "<style scoped>\n",
              "    .dataframe tbody tr th:only-of-type {\n",
              "        vertical-align: middle;\n",
              "    }\n",
              "\n",
              "    .dataframe tbody tr th {\n",
              "        vertical-align: top;\n",
              "    }\n",
              "\n",
              "    .dataframe thead th {\n",
              "        text-align: right;\n",
              "    }\n",
              "</style>\n",
              "<table border=\"1\" class=\"dataframe\">\n",
              "  <thead>\n",
              "    <tr style=\"text-align: right;\">\n",
              "      <th></th>\n",
              "      <th>꽃잎길이</th>\n",
              "      <th>꽃잎폭</th>\n",
              "      <th>꽃받침길이</th>\n",
              "      <th>꽃받침폭</th>\n",
              "      <th>품종</th>\n",
              "    </tr>\n",
              "  </thead>\n",
              "  <tbody>\n",
              "    <tr>\n",
              "      <th>0</th>\n",
              "      <td>5.1</td>\n",
              "      <td>3.5</td>\n",
              "      <td>1.4</td>\n",
              "      <td>0.2</td>\n",
              "      <td>setosa</td>\n",
              "    </tr>\n",
              "    <tr>\n",
              "      <th>1</th>\n",
              "      <td>4.9</td>\n",
              "      <td>3.0</td>\n",
              "      <td>1.4</td>\n",
              "      <td>0.2</td>\n",
              "      <td>setosa</td>\n",
              "    </tr>\n",
              "    <tr>\n",
              "      <th>2</th>\n",
              "      <td>4.7</td>\n",
              "      <td>3.2</td>\n",
              "      <td>1.3</td>\n",
              "      <td>0.2</td>\n",
              "      <td>setosa</td>\n",
              "    </tr>\n",
              "    <tr>\n",
              "      <th>3</th>\n",
              "      <td>4.6</td>\n",
              "      <td>3.1</td>\n",
              "      <td>1.5</td>\n",
              "      <td>0.2</td>\n",
              "      <td>setosa</td>\n",
              "    </tr>\n",
              "    <tr>\n",
              "      <th>4</th>\n",
              "      <td>5.0</td>\n",
              "      <td>3.6</td>\n",
              "      <td>1.4</td>\n",
              "      <td>0.2</td>\n",
              "      <td>setosa</td>\n",
              "    </tr>\n",
              "  </tbody>\n",
              "</table>\n",
              "</div>"
            ],
            "text/plain": [
              "   꽃잎길이  꽃잎폭  꽃받침길이  꽃받침폭      품종\n",
              "0   5.1  3.5    1.4   0.2  setosa\n",
              "1   4.9  3.0    1.4   0.2  setosa\n",
              "2   4.7  3.2    1.3   0.2  setosa\n",
              "3   4.6  3.1    1.5   0.2  setosa\n",
              "4   5.0  3.6    1.4   0.2  setosa"
            ]
          },
          "metadata": {
            "tags": []
          },
          "execution_count": 2
        }
      ]
    },
    {
      "cell_type": "code",
      "metadata": {
        "id": "hWV9fV0gpAbd",
        "colab_type": "code",
        "colab": {
          "base_uri": "https://localhost:8080/",
          "height": 195
        },
        "outputId": "71c6eab3-4aa9-484a-de56-6c8101516138"
      },
      "source": [
        "#원핫인코딩\n",
        "인코딩=pd.get_dummies(아이리스)\n",
        "인코딩.head()"
      ],
      "execution_count": 3,
      "outputs": [
        {
          "output_type": "execute_result",
          "data": {
            "text/html": [
              "<div>\n",
              "<style scoped>\n",
              "    .dataframe tbody tr th:only-of-type {\n",
              "        vertical-align: middle;\n",
              "    }\n",
              "\n",
              "    .dataframe tbody tr th {\n",
              "        vertical-align: top;\n",
              "    }\n",
              "\n",
              "    .dataframe thead th {\n",
              "        text-align: right;\n",
              "    }\n",
              "</style>\n",
              "<table border=\"1\" class=\"dataframe\">\n",
              "  <thead>\n",
              "    <tr style=\"text-align: right;\">\n",
              "      <th></th>\n",
              "      <th>꽃잎길이</th>\n",
              "      <th>꽃잎폭</th>\n",
              "      <th>꽃받침길이</th>\n",
              "      <th>꽃받침폭</th>\n",
              "      <th>품종_setosa</th>\n",
              "      <th>품종_versicolor</th>\n",
              "      <th>품종_virginica</th>\n",
              "    </tr>\n",
              "  </thead>\n",
              "  <tbody>\n",
              "    <tr>\n",
              "      <th>0</th>\n",
              "      <td>5.1</td>\n",
              "      <td>3.5</td>\n",
              "      <td>1.4</td>\n",
              "      <td>0.2</td>\n",
              "      <td>1</td>\n",
              "      <td>0</td>\n",
              "      <td>0</td>\n",
              "    </tr>\n",
              "    <tr>\n",
              "      <th>1</th>\n",
              "      <td>4.9</td>\n",
              "      <td>3.0</td>\n",
              "      <td>1.4</td>\n",
              "      <td>0.2</td>\n",
              "      <td>1</td>\n",
              "      <td>0</td>\n",
              "      <td>0</td>\n",
              "    </tr>\n",
              "    <tr>\n",
              "      <th>2</th>\n",
              "      <td>4.7</td>\n",
              "      <td>3.2</td>\n",
              "      <td>1.3</td>\n",
              "      <td>0.2</td>\n",
              "      <td>1</td>\n",
              "      <td>0</td>\n",
              "      <td>0</td>\n",
              "    </tr>\n",
              "    <tr>\n",
              "      <th>3</th>\n",
              "      <td>4.6</td>\n",
              "      <td>3.1</td>\n",
              "      <td>1.5</td>\n",
              "      <td>0.2</td>\n",
              "      <td>1</td>\n",
              "      <td>0</td>\n",
              "      <td>0</td>\n",
              "    </tr>\n",
              "    <tr>\n",
              "      <th>4</th>\n",
              "      <td>5.0</td>\n",
              "      <td>3.6</td>\n",
              "      <td>1.4</td>\n",
              "      <td>0.2</td>\n",
              "      <td>1</td>\n",
              "      <td>0</td>\n",
              "      <td>0</td>\n",
              "    </tr>\n",
              "  </tbody>\n",
              "</table>\n",
              "</div>"
            ],
            "text/plain": [
              "   꽃잎길이  꽃잎폭  꽃받침길이  꽃받침폭  품종_setosa  품종_versicolor  품종_virginica\n",
              "0   5.1  3.5    1.4   0.2          1              0             0\n",
              "1   4.9  3.0    1.4   0.2          1              0             0\n",
              "2   4.7  3.2    1.3   0.2          1              0             0\n",
              "3   4.6  3.1    1.5   0.2          1              0             0\n",
              "4   5.0  3.6    1.4   0.2          1              0             0"
            ]
          },
          "metadata": {
            "tags": []
          },
          "execution_count": 3
        }
      ]
    },
    {
      "cell_type": "code",
      "metadata": {
        "id": "_cSYJMURpL-T",
        "colab_type": "code",
        "colab": {
          "base_uri": "https://localhost:8080/",
          "height": 67
        },
        "outputId": "c4594e54-0a4d-4ac7-a5e0-ca42eab46bc4"
      },
      "source": [
        "print(인코딩.columns)"
      ],
      "execution_count": 4,
      "outputs": [
        {
          "output_type": "stream",
          "text": [
            "Index(['꽃잎길이', '꽃잎폭', '꽃받침길이', '꽃받침폭', '품종_setosa', '품종_versicolor',\n",
            "       '품종_virginica'],\n",
            "      dtype='object')\n"
          ],
          "name": "stdout"
        }
      ]
    },
    {
      "cell_type": "code",
      "metadata": {
        "id": "vgv8PCRSpPYv",
        "colab_type": "code",
        "colab": {
          "base_uri": "https://localhost:8080/",
          "height": 34
        },
        "outputId": "4d49779a-c497-4631-9fb4-ef286cb4c1b5"
      },
      "source": [
        "독립=인코딩[['꽃잎길이', '꽃잎폭', '꽃받침길이', '꽃받침폭']]\n",
        "종속=인코딩[['품종_setosa', '품종_versicolor',\n",
        "       '품종_virginica']]\n",
        "print(독립.shape, 종속.shape)"
      ],
      "execution_count": 5,
      "outputs": [
        {
          "output_type": "stream",
          "text": [
            "(150, 4) (150, 3)\n"
          ],
          "name": "stdout"
        }
      ]
    },
    {
      "cell_type": "code",
      "metadata": {
        "id": "v99XhK5-pgPv",
        "colab_type": "code",
        "colab": {}
      },
      "source": [
        "X=tf.keras.layers.Input(shape=[4])\n",
        "Y=tf.keras.layers.Dense(3, activation='softmax')(X)\n",
        "model=tf.keras.models.Model(X, Y)\n",
        "model.compile(loss='categorical_crossentropy', metrics='accuracy')"
      ],
      "execution_count": 7,
      "outputs": []
    },
    {
      "cell_type": "code",
      "metadata": {
        "id": "CPvX1K3gp9ob",
        "colab_type": "code",
        "colab": {
          "base_uri": "https://localhost:8080/",
          "height": 1000
        },
        "outputId": "c81e0ca5-9904-4702-a2e3-a42088cd6d32"
      },
      "source": [
        "model.fit(독립, 종속, epochs=100)"
      ],
      "execution_count": 10,
      "outputs": [
        {
          "output_type": "stream",
          "text": [
            "Epoch 1/100\n",
            "5/5 [==============================] - 0s 1ms/step - loss: 0.6672 - accuracy: 0.7267\n",
            "Epoch 2/100\n",
            "5/5 [==============================] - 0s 1ms/step - loss: 0.6650 - accuracy: 0.7067\n",
            "Epoch 3/100\n",
            "5/5 [==============================] - 0s 1ms/step - loss: 0.6613 - accuracy: 0.7600\n",
            "Epoch 4/100\n",
            "5/5 [==============================] - 0s 2ms/step - loss: 0.6572 - accuracy: 0.7600\n",
            "Epoch 5/100\n",
            "5/5 [==============================] - 0s 2ms/step - loss: 0.6541 - accuracy: 0.7800\n",
            "Epoch 6/100\n",
            "5/5 [==============================] - 0s 2ms/step - loss: 0.6499 - accuracy: 0.7533\n",
            "Epoch 7/100\n",
            "5/5 [==============================] - 0s 1ms/step - loss: 0.6475 - accuracy: 0.7667\n",
            "Epoch 8/100\n",
            "5/5 [==============================] - 0s 2ms/step - loss: 0.6444 - accuracy: 0.7067\n",
            "Epoch 9/100\n",
            "5/5 [==============================] - 0s 2ms/step - loss: 0.6402 - accuracy: 0.7733\n",
            "Epoch 10/100\n",
            "5/5 [==============================] - 0s 2ms/step - loss: 0.6382 - accuracy: 0.7667\n",
            "Epoch 11/100\n",
            "5/5 [==============================] - 0s 1ms/step - loss: 0.6341 - accuracy: 0.7667\n",
            "Epoch 12/100\n",
            "5/5 [==============================] - 0s 2ms/step - loss: 0.6318 - accuracy: 0.7867\n",
            "Epoch 13/100\n",
            "5/5 [==============================] - 0s 1ms/step - loss: 0.6284 - accuracy: 0.7067\n",
            "Epoch 14/100\n",
            "5/5 [==============================] - 0s 1ms/step - loss: 0.6257 - accuracy: 0.7733\n",
            "Epoch 15/100\n",
            "5/5 [==============================] - 0s 2ms/step - loss: 0.6222 - accuracy: 0.7933\n",
            "Epoch 16/100\n",
            "5/5 [==============================] - 0s 2ms/step - loss: 0.6192 - accuracy: 0.7800\n",
            "Epoch 17/100\n",
            "5/5 [==============================] - 0s 2ms/step - loss: 0.6160 - accuracy: 0.7667\n",
            "Epoch 18/100\n",
            "5/5 [==============================] - 0s 2ms/step - loss: 0.6148 - accuracy: 0.7733\n",
            "Epoch 19/100\n",
            "5/5 [==============================] - 0s 1ms/step - loss: 0.6109 - accuracy: 0.7800\n",
            "Epoch 20/100\n",
            "5/5 [==============================] - 0s 1ms/step - loss: 0.6080 - accuracy: 0.7800\n",
            "Epoch 21/100\n",
            "5/5 [==============================] - 0s 2ms/step - loss: 0.6048 - accuracy: 0.7933\n",
            "Epoch 22/100\n",
            "5/5 [==============================] - 0s 2ms/step - loss: 0.6029 - accuracy: 0.7600\n",
            "Epoch 23/100\n",
            "5/5 [==============================] - 0s 2ms/step - loss: 0.6000 - accuracy: 0.7667\n",
            "Epoch 24/100\n",
            "5/5 [==============================] - 0s 1ms/step - loss: 0.5968 - accuracy: 0.8200\n",
            "Epoch 25/100\n",
            "5/5 [==============================] - 0s 2ms/step - loss: 0.5949 - accuracy: 0.8067\n",
            "Epoch 26/100\n",
            "5/5 [==============================] - 0s 1ms/step - loss: 0.5912 - accuracy: 0.8067\n",
            "Epoch 27/100\n",
            "5/5 [==============================] - 0s 2ms/step - loss: 0.5892 - accuracy: 0.7933\n",
            "Epoch 28/100\n",
            "5/5 [==============================] - 0s 1ms/step - loss: 0.5876 - accuracy: 0.8200\n",
            "Epoch 29/100\n",
            "5/5 [==============================] - 0s 2ms/step - loss: 0.5852 - accuracy: 0.7933\n",
            "Epoch 30/100\n",
            "5/5 [==============================] - 0s 1ms/step - loss: 0.5817 - accuracy: 0.8133\n",
            "Epoch 31/100\n",
            "5/5 [==============================] - 0s 2ms/step - loss: 0.5790 - accuracy: 0.8067\n",
            "Epoch 32/100\n",
            "5/5 [==============================] - 0s 2ms/step - loss: 0.5773 - accuracy: 0.8200\n",
            "Epoch 33/100\n",
            "5/5 [==============================] - 0s 2ms/step - loss: 0.5747 - accuracy: 0.8133\n",
            "Epoch 34/100\n",
            "5/5 [==============================] - 0s 1ms/step - loss: 0.5722 - accuracy: 0.7867\n",
            "Epoch 35/100\n",
            "5/5 [==============================] - 0s 1ms/step - loss: 0.5709 - accuracy: 0.8267\n",
            "Epoch 36/100\n",
            "5/5 [==============================] - 0s 1ms/step - loss: 0.5676 - accuracy: 0.8067\n",
            "Epoch 37/100\n",
            "5/5 [==============================] - 0s 2ms/step - loss: 0.5657 - accuracy: 0.8067\n",
            "Epoch 38/100\n",
            "5/5 [==============================] - 0s 2ms/step - loss: 0.5634 - accuracy: 0.7933\n",
            "Epoch 39/100\n",
            "5/5 [==============================] - 0s 2ms/step - loss: 0.5614 - accuracy: 0.8467\n",
            "Epoch 40/100\n",
            "5/5 [==============================] - 0s 2ms/step - loss: 0.5597 - accuracy: 0.8200\n",
            "Epoch 41/100\n",
            "5/5 [==============================] - 0s 2ms/step - loss: 0.5576 - accuracy: 0.8467\n",
            "Epoch 42/100\n",
            "5/5 [==============================] - 0s 2ms/step - loss: 0.5560 - accuracy: 0.8133\n",
            "Epoch 43/100\n",
            "5/5 [==============================] - 0s 1ms/step - loss: 0.5534 - accuracy: 0.8067\n",
            "Epoch 44/100\n",
            "5/5 [==============================] - 0s 1ms/step - loss: 0.5504 - accuracy: 0.8200\n",
            "Epoch 45/100\n",
            "5/5 [==============================] - 0s 2ms/step - loss: 0.5485 - accuracy: 0.8400\n",
            "Epoch 46/100\n",
            "5/5 [==============================] - 0s 2ms/step - loss: 0.5472 - accuracy: 0.8467\n",
            "Epoch 47/100\n",
            "5/5 [==============================] - 0s 1ms/step - loss: 0.5450 - accuracy: 0.8333\n",
            "Epoch 48/100\n",
            "5/5 [==============================] - 0s 2ms/step - loss: 0.5429 - accuracy: 0.8000\n",
            "Epoch 49/100\n",
            "5/5 [==============================] - 0s 2ms/step - loss: 0.5418 - accuracy: 0.9000\n",
            "Epoch 50/100\n",
            "5/5 [==============================] - 0s 2ms/step - loss: 0.5390 - accuracy: 0.8200\n",
            "Epoch 51/100\n",
            "5/5 [==============================] - 0s 1ms/step - loss: 0.5373 - accuracy: 0.8133\n",
            "Epoch 52/100\n",
            "5/5 [==============================] - 0s 1ms/step - loss: 0.5351 - accuracy: 0.8867\n",
            "Epoch 53/100\n",
            "5/5 [==============================] - 0s 2ms/step - loss: 0.5333 - accuracy: 0.8467\n",
            "Epoch 54/100\n",
            "5/5 [==============================] - 0s 2ms/step - loss: 0.5315 - accuracy: 0.8533\n",
            "Epoch 55/100\n",
            "5/5 [==============================] - 0s 1ms/step - loss: 0.5293 - accuracy: 0.8467\n",
            "Epoch 56/100\n",
            "5/5 [==============================] - 0s 1ms/step - loss: 0.5279 - accuracy: 0.8467\n",
            "Epoch 57/100\n",
            "5/5 [==============================] - 0s 2ms/step - loss: 0.5258 - accuracy: 0.8200\n",
            "Epoch 58/100\n",
            "5/5 [==============================] - 0s 1ms/step - loss: 0.5241 - accuracy: 0.8533\n",
            "Epoch 59/100\n",
            "5/5 [==============================] - 0s 2ms/step - loss: 0.5222 - accuracy: 0.8200\n",
            "Epoch 60/100\n",
            "5/5 [==============================] - 0s 1ms/step - loss: 0.5213 - accuracy: 0.8400\n",
            "Epoch 61/100\n",
            "5/5 [==============================] - 0s 2ms/step - loss: 0.5182 - accuracy: 0.8267\n",
            "Epoch 62/100\n",
            "5/5 [==============================] - 0s 2ms/step - loss: 0.5162 - accuracy: 0.8267\n",
            "Epoch 63/100\n",
            "5/5 [==============================] - 0s 2ms/step - loss: 0.5144 - accuracy: 0.8867\n",
            "Epoch 64/100\n",
            "5/5 [==============================] - 0s 2ms/step - loss: 0.5133 - accuracy: 0.8667\n",
            "Epoch 65/100\n",
            "5/5 [==============================] - 0s 1ms/step - loss: 0.5110 - accuracy: 0.8600\n",
            "Epoch 66/100\n",
            "5/5 [==============================] - 0s 2ms/step - loss: 0.5092 - accuracy: 0.8933\n",
            "Epoch 67/100\n",
            "5/5 [==============================] - 0s 2ms/step - loss: 0.5081 - accuracy: 0.8733\n",
            "Epoch 68/100\n",
            "5/5 [==============================] - 0s 2ms/step - loss: 0.5054 - accuracy: 0.8667\n",
            "Epoch 69/100\n",
            "5/5 [==============================] - 0s 1ms/step - loss: 0.5037 - accuracy: 0.9000\n",
            "Epoch 70/100\n",
            "5/5 [==============================] - 0s 1ms/step - loss: 0.5028 - accuracy: 0.8733\n",
            "Epoch 71/100\n",
            "5/5 [==============================] - 0s 2ms/step - loss: 0.5005 - accuracy: 0.8467\n",
            "Epoch 72/100\n",
            "5/5 [==============================] - 0s 1ms/step - loss: 0.4985 - accuracy: 0.9000\n",
            "Epoch 73/100\n",
            "5/5 [==============================] - 0s 2ms/step - loss: 0.4978 - accuracy: 0.9067\n",
            "Epoch 74/100\n",
            "5/5 [==============================] - 0s 2ms/step - loss: 0.4970 - accuracy: 0.8600\n",
            "Epoch 75/100\n",
            "5/5 [==============================] - 0s 1ms/step - loss: 0.4950 - accuracy: 0.8733\n",
            "Epoch 76/100\n",
            "5/5 [==============================] - 0s 1ms/step - loss: 0.4928 - accuracy: 0.8933\n",
            "Epoch 77/100\n",
            "5/5 [==============================] - 0s 1ms/step - loss: 0.4908 - accuracy: 0.8933\n",
            "Epoch 78/100\n",
            "5/5 [==============================] - 0s 2ms/step - loss: 0.4901 - accuracy: 0.8867\n",
            "Epoch 79/100\n",
            "5/5 [==============================] - 0s 1ms/step - loss: 0.4887 - accuracy: 0.9200\n",
            "Epoch 80/100\n",
            "5/5 [==============================] - 0s 1ms/step - loss: 0.4870 - accuracy: 0.8933\n",
            "Epoch 81/100\n",
            "5/5 [==============================] - 0s 2ms/step - loss: 0.4859 - accuracy: 0.8733\n",
            "Epoch 82/100\n",
            "5/5 [==============================] - 0s 2ms/step - loss: 0.4838 - accuracy: 0.8933\n",
            "Epoch 83/100\n",
            "5/5 [==============================] - 0s 2ms/step - loss: 0.4831 - accuracy: 0.8933\n",
            "Epoch 84/100\n",
            "5/5 [==============================] - 0s 2ms/step - loss: 0.4810 - accuracy: 0.8800\n",
            "Epoch 85/100\n",
            "5/5 [==============================] - 0s 2ms/step - loss: 0.4795 - accuracy: 0.8867\n",
            "Epoch 86/100\n",
            "5/5 [==============================] - 0s 2ms/step - loss: 0.4788 - accuracy: 0.8667\n",
            "Epoch 87/100\n",
            "5/5 [==============================] - 0s 1ms/step - loss: 0.4770 - accuracy: 0.8933\n",
            "Epoch 88/100\n",
            "5/5 [==============================] - 0s 2ms/step - loss: 0.4758 - accuracy: 0.9000\n",
            "Epoch 89/100\n",
            "5/5 [==============================] - 0s 2ms/step - loss: 0.4755 - accuracy: 0.9000\n",
            "Epoch 90/100\n",
            "5/5 [==============================] - 0s 1ms/step - loss: 0.4728 - accuracy: 0.9200\n",
            "Epoch 91/100\n",
            "5/5 [==============================] - 0s 1ms/step - loss: 0.4718 - accuracy: 0.9000\n",
            "Epoch 92/100\n",
            "5/5 [==============================] - 0s 2ms/step - loss: 0.4706 - accuracy: 0.9133\n",
            "Epoch 93/100\n",
            "5/5 [==============================] - 0s 1ms/step - loss: 0.4688 - accuracy: 0.9067\n",
            "Epoch 94/100\n",
            "5/5 [==============================] - 0s 1ms/step - loss: 0.4683 - accuracy: 0.9067\n",
            "Epoch 95/100\n",
            "5/5 [==============================] - 0s 2ms/step - loss: 0.4664 - accuracy: 0.9067\n",
            "Epoch 96/100\n",
            "5/5 [==============================] - 0s 2ms/step - loss: 0.4658 - accuracy: 0.9000\n",
            "Epoch 97/100\n",
            "5/5 [==============================] - 0s 1ms/step - loss: 0.4638 - accuracy: 0.9400\n",
            "Epoch 98/100\n",
            "5/5 [==============================] - 0s 2ms/step - loss: 0.4640 - accuracy: 0.9267\n",
            "Epoch 99/100\n",
            "5/5 [==============================] - 0s 2ms/step - loss: 0.4616 - accuracy: 0.9067\n",
            "Epoch 100/100\n",
            "5/5 [==============================] - 0s 1ms/step - loss: 0.4604 - accuracy: 0.9400\n"
          ],
          "name": "stdout"
        },
        {
          "output_type": "execute_result",
          "data": {
            "text/plain": [
              "<tensorflow.python.keras.callbacks.History at 0x7f2dca373828>"
            ]
          },
          "metadata": {
            "tags": []
          },
          "execution_count": 10
        }
      ]
    },
    {
      "cell_type": "code",
      "metadata": {
        "id": "xdXdISckqOOU",
        "colab_type": "code",
        "colab": {
          "base_uri": "https://localhost:8080/",
          "height": 101
        },
        "outputId": "1c1bbace-606a-4cff-f8ed-52b2f87b6d5f"
      },
      "source": [
        "model.predict(독립[-5:])"
      ],
      "execution_count": 13,
      "outputs": [
        {
          "output_type": "execute_result",
          "data": {
            "text/plain": [
              "array([[0.01330723, 0.37231407, 0.61437875],\n",
              "       [0.01573105, 0.40473047, 0.57953846],\n",
              "       [0.02058237, 0.39319625, 0.58622134],\n",
              "       [0.01703305, 0.32653156, 0.65643543],\n",
              "       [0.0287867 , 0.38202548, 0.58918774]], dtype=float32)"
            ]
          },
          "metadata": {
            "tags": []
          },
          "execution_count": 13
        }
      ]
    },
    {
      "cell_type": "code",
      "metadata": {
        "id": "Lm8rvyLGqh-A",
        "colab_type": "code",
        "colab": {
          "base_uri": "https://localhost:8080/",
          "height": 118
        },
        "outputId": "e0ea2931-1bda-4345-b6a9-a04a84e26e4a"
      },
      "source": [
        "print(종속[-5:])"
      ],
      "execution_count": 14,
      "outputs": [
        {
          "output_type": "stream",
          "text": [
            "     품종_setosa  품종_versicolor  품종_virginica\n",
            "145          0              0             1\n",
            "146          0              0             1\n",
            "147          0              0             1\n",
            "148          0              0             1\n",
            "149          0              0             1\n"
          ],
          "name": "stdout"
        }
      ]
    },
    {
      "cell_type": "code",
      "metadata": {
        "id": "xMu9PdUUqnzA",
        "colab_type": "code",
        "colab": {
          "base_uri": "https://localhost:8080/",
          "height": 101
        },
        "outputId": "84217936-a15e-4829-f2a0-4288390e3aa8"
      },
      "source": [
        "#학습한 가중치\n",
        "model.get_weights()"
      ],
      "execution_count": 15,
      "outputs": [
        {
          "output_type": "execute_result",
          "data": {
            "text/plain": [
              "[array([[ 0.70975935,  0.8132623 ,  0.5198254 ],\n",
              "        [ 1.0025566 , -0.12135068, -0.17164886],\n",
              "        [-1.1573662 , -0.54108626, -0.18696582],\n",
              "        [-1.3007332 , -0.0978812 ,  0.43602747]], dtype=float32),\n",
              " array([ 0.23275721,  0.27122396, -0.18039629], dtype=float32)]"
            ]
          },
          "metadata": {
            "tags": []
          },
          "execution_count": 15
        }
      ]
    },
    {
      "cell_type": "code",
      "metadata": {
        "id": "5AgTdo_7q3HE",
        "colab_type": "code",
        "colab": {}
      },
      "source": [
        ""
      ],
      "execution_count": null,
      "outputs": []
    }
  ]
}